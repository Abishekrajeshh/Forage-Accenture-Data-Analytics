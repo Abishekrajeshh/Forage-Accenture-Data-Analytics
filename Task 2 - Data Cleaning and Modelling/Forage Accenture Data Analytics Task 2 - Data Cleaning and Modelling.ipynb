{
 "cells": [
  {
   "cell_type": "markdown",
   "id": "9623d007",
   "metadata": {},
   "source": [
    "Import Required Modules"
   ]
  },
  {
   "cell_type": "code",
   "execution_count": 1,
   "id": "735a2929",
   "metadata": {},
   "outputs": [],
   "source": [
    "import pandas as pd\n",
    "import matplotlib.pyplot as plt\n",
    "import seaborn as sns\n",
    "import numpy as np"
   ]
  },
  {
   "cell_type": "markdown",
   "id": "ab4aedb8",
   "metadata": {},
   "source": [
    "Load the CSV Files"
   ]
  },
  {
   "cell_type": "code",
   "execution_count": null,
   "id": "d6a160d8",
   "metadata": {},
   "outputs": [],
   "source": [
    "content = pd.read_csv('Content.csv')\n",
    "reaction = pd.read_csv('Reactions.csv')\n",
    "reaction_type = pd.read_csv('ReactionTypes.csv')"
   ]
  },
  {
   "cell_type": "markdown",
   "id": "2f0de8c0",
   "metadata": {},
   "source": [
    "Drop Unnecessary Columns"
   ]
  },
  {
   "cell_type": "code",
   "execution_count": 15,
   "id": "44a3f492",
   "metadata": {},
   "outputs": [],
   "source": [
    "content.drop(['Unnamed: 0'], axis=1, inplace=True)\n",
    "reaction.drop(['Unnamed: 0'], axis=1, inplace=True)\n",
    "reaction_type.drop(['Unnamed: 0'], axis=1, inplace=True)"
   ]
  },
  {
   "cell_type": "markdown",
   "id": "238a3a69",
   "metadata": {},
   "source": [
    "Drop Non-Relevant Columns (Focus on Reactions & Categories)"
   ]
  },
  {
   "cell_type": "code",
   "execution_count": 16,
   "id": "04b03255",
   "metadata": {},
   "outputs": [],
   "source": [
    "content.drop(['User ID', 'URL'], axis=1, inplace=True)\n",
    "reaction.drop(['User ID'], axis=1, inplace=True)"
   ]
  },
  {
   "cell_type": "markdown",
   "id": "7c2486d4",
   "metadata": {},
   "source": [
    "Rename Columns for Clean Merge"
   ]
  },
  {
   "cell_type": "code",
   "execution_count": 17,
   "id": "d04dcf94",
   "metadata": {},
   "outputs": [],
   "source": [
    "reaction.rename(columns={'Type': 'reaction_type'}, inplace=True)\n",
    "reaction_type.rename(columns={'Type': 'reaction_type'}, inplace=True)\n",
    "content.rename(columns={'Type': 'content_type'}, inplace=True)"
   ]
  },
  {
   "cell_type": "markdown",
   "id": "36eca19b",
   "metadata": {},
   "source": [
    "Remove Missing/Null Values"
   ]
  },
  {
   "cell_type": "code",
   "execution_count": 18,
   "id": "56ce3dbc",
   "metadata": {},
   "outputs": [],
   "source": [
    "content.dropna(inplace=True)\n",
    "reaction.dropna(inplace=True)\n",
    "reaction_type.dropna(inplace=True)"
   ]
  },
  {
   "cell_type": "markdown",
   "id": "8e6b2817",
   "metadata": {},
   "source": [
    "Merge Datasets"
   ]
  },
  {
   "cell_type": "code",
   "execution_count": 19,
   "id": "7226705f",
   "metadata": {},
   "outputs": [],
   "source": [
    "reaction_merged = pd.merge(reaction, reaction_type, on='reaction_type', how='inner')\n",
    "final_df = pd.merge(content, reaction_merged, on='Content ID', how='inner')"
   ]
  },
  {
   "cell_type": "markdown",
   "id": "a7f8c739",
   "metadata": {},
   "source": [
    "Clean Up the Category Field"
   ]
  },
  {
   "cell_type": "code",
   "execution_count": 21,
   "id": "b0f26d5c",
   "metadata": {},
   "outputs": [],
   "source": [
    "final_df['Category'] = final_df['Category'].str.replace(r'\"([^\"]+)\"', r'\\1', regex=True)\n",
    "final_df['Category'] = final_df['Category'].str.lower()"
   ]
  },
  {
   "cell_type": "markdown",
   "id": "de79f857",
   "metadata": {},
   "source": [
    "View & Export the Cleaned Dataset"
   ]
  },
  {
   "cell_type": "code",
   "execution_count": 23,
   "id": "f46a5e50",
   "metadata": {},
   "outputs": [],
   "source": [
    "final_df.to_csv('Cleaned Dataset.csv', index=False)\n",
    "final_df.to_excel('Cleaned Dataset.xlsx', index=False)"
   ]
  },
  {
   "cell_type": "markdown",
   "id": "ccef74ec",
   "metadata": {},
   "source": [
    "Get the Top 5 Categories by Score"
   ]
  },
  {
   "cell_type": "code",
   "execution_count": 24,
   "id": "d92ec0f7",
   "metadata": {},
   "outputs": [
    {
     "name": "stdout",
     "output_type": "stream",
     "text": [
      "Category\n",
      "animals           74965\n",
      "science           71168\n",
      "healthy eating    69339\n",
      "technology        68738\n",
      "food              66676\n",
      "Name: Score, dtype: int64\n"
     ]
    }
   ],
   "source": [
    "top5_categories = final_df.groupby(\"Category\")[\"Score\"].sum().sort_values(ascending=False).head(5)\n",
    "print(top5_categories)"
   ]
  },
  {
   "cell_type": "markdown",
   "id": "dae66d78",
   "metadata": {},
   "source": [
    "You can also export this as: Top_5_Categories"
   ]
  },
  {
   "cell_type": "code",
   "execution_count": 25,
   "id": "975c124a",
   "metadata": {},
   "outputs": [],
   "source": [
    "top5_categories.to_excel(\"Top_5_Categories.xlsx\")"
   ]
  }
 ],
 "metadata": {
  "kernelspec": {
   "display_name": "Python 3",
   "language": "python",
   "name": "python3"
  },
  "language_info": {
   "codemirror_mode": {
    "name": "ipython",
    "version": 3
   },
   "file_extension": ".py",
   "mimetype": "text/x-python",
   "name": "python",
   "nbconvert_exporter": "python",
   "pygments_lexer": "ipython3",
   "version": "3.13.0"
  }
 },
 "nbformat": 4,
 "nbformat_minor": 5
}
